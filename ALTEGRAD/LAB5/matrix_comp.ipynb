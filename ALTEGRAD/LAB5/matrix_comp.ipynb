{
 "cells": [
  {
   "cell_type": "code",
   "execution_count": 13,
   "metadata": {},
   "outputs": [],
   "source": [
    "import numpy as np \n",
    "from sympy import Rational, Matrix, sqrt, transpose"
   ]
  },
  {
   "cell_type": "code",
   "execution_count": 35,
   "metadata": {},
   "outputs": [
    {
     "name": "stdout",
     "output_type": "stream",
     "text": [
      "Matrix([[1/4, sqrt(2)/4, sqrt(2)/4, sqrt(2)/4], [sqrt(2)/4, 1/2, 0, 0], [sqrt(2)/4, 0, 1/2, 0], [sqrt(2)/4, 0, 0, 1/2]])\n"
     ]
    },
    {
     "data": {
      "text/latex": [
       "$\\displaystyle \\left[\\begin{matrix}0 & 0.125 + 0.375 \\sqrt{2}\\\\0 & 0.125 \\sqrt{2} + 0.25\\\\0 & 0.125 \\sqrt{2} + 0.25\\\\0 & 0.125 \\sqrt{2} + 0.25\\end{matrix}\\right]$"
      ],
      "text/plain": [
       "Matrix([\n",
       "[0, 0.125 + 0.375*sqrt(2)],\n",
       "[0,  0.125*sqrt(2) + 0.25],\n",
       "[0,  0.125*sqrt(2) + 0.25],\n",
       "[0,  0.125*sqrt(2) + 0.25]])"
      ]
     },
     "execution_count": 35,
     "metadata": {},
     "output_type": "execute_result"
    }
   ],
   "source": [
    "D = Matrix([[sqrt(Rational(1, 2)), 0, 0, 0],\n",
    "            [0, 1, 0, 0],\n",
    "            [0, 0, 1, 0],\n",
    "            [0, 0, 0, 1]])\n",
    "\n",
    "A = Matrix([[1, 1, 1, 1],\n",
    "            [1, 1, 0, 0],\n",
    "            [1, 0, 1, 0],\n",
    "            [1, 0, 0, 1]])\n",
    "\n",
    "A_tilde = D * A * D / 2\n",
    "print(A_tilde)\n",
    "\n",
    "XW = Matrix([[-8/10, 1/2], [-8/10, 1/2], [-8/10, 1/2], [-8/10, 1/2]])\n",
    "\n",
    "Z0 = A_tilde * XW\n",
    "Z0 = Z0.applyfunc(lambda x: max(0, x))\n",
    "Z0"
   ]
  },
  {
   "cell_type": "code",
   "execution_count": 41,
   "metadata": {},
   "outputs": [
    {
     "name": "stdout",
     "output_type": "stream",
     "text": [
      "Matrix([[3*sqrt(2)*(-0.1 - 0.05*sqrt(2))/4 - 0.0375*sqrt(2) - 0.0125, 0.01875 + 0.05625*sqrt(2) + 3*sqrt(2)*(0.075*sqrt(2) + 0.15)/4, 0.015625 + 0.046875*sqrt(2) + 3*sqrt(2)*(0.0625*sqrt(2) + 0.125)/4], [sqrt(2)*(-0.15*sqrt(2) - 0.05)/4 - 0.05 - 0.025*sqrt(2), 0.0375*sqrt(2) + 0.075 + sqrt(2)*(0.075 + 0.225*sqrt(2))/4, 0.03125*sqrt(2) + 0.0625 + sqrt(2)*(0.0625 + 0.1875*sqrt(2))/4], [sqrt(2)*(-0.15*sqrt(2) - 0.05)/4 - 0.05 - 0.025*sqrt(2), 0.0375*sqrt(2) + 0.075 + sqrt(2)*(0.075 + 0.225*sqrt(2))/4, 0.03125*sqrt(2) + 0.0625 + sqrt(2)*(0.0625 + 0.1875*sqrt(2))/4], [sqrt(2)*(-0.15*sqrt(2) - 0.05)/4 - 0.05 - 0.025*sqrt(2), 0.0375*sqrt(2) + 0.075 + sqrt(2)*(0.075 + 0.225*sqrt(2))/4, 0.03125*sqrt(2) + 0.0625 + sqrt(2)*(0.0625 + 0.1875*sqrt(2))/4]])\n"
     ]
    }
   ],
   "source": [
    "W1 = Matrix([[0.1, 0.3, -0.05],\n",
    "               [-0.4, 0.6, 0.5]])\n",
    "\n",
    "# Calcul du produit matriciel Z0 * W1\n",
    "result2 = Z0 * W1\n",
    "print(A_tilde * result2)"
   ]
  },
  {
   "cell_type": "code",
   "execution_count": null,
   "metadata": {},
   "outputs": [],
   "source": []
  }
 ],
 "metadata": {
  "kernelspec": {
   "display_name": "base",
   "language": "python",
   "name": "python3"
  },
  "language_info": {
   "codemirror_mode": {
    "name": "ipython",
    "version": 3
   },
   "file_extension": ".py",
   "mimetype": "text/x-python",
   "name": "python",
   "nbconvert_exporter": "python",
   "pygments_lexer": "ipython3",
   "version": "3.12.4"
  }
 },
 "nbformat": 4,
 "nbformat_minor": 2
}
