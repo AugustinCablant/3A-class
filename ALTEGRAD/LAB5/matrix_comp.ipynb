{
 "cells": [
  {
   "cell_type": "code",
   "execution_count": 11,
   "metadata": {},
   "outputs": [],
   "source": [
    "import numpy as np \n",
    "from sympy import Rational, Matrix, sqrt"
   ]
  },
  {
   "cell_type": "code",
   "execution_count": 12,
   "metadata": {},
   "outputs": [
    {
     "name": "stdout",
     "output_type": "stream",
     "text": [
      "Matrix([[1/4, sqrt(2)/4, sqrt(2)/4, sqrt(2)/4], [sqrt(2)/4, 1/2, 0, 0], [sqrt(2)/4, 0, 1/2, 0], [sqrt(2)/4, 0, 0, 1/2]])\n"
     ]
    }
   ],
   "source": [
    "D = Matrix([[sqrt(Rational(1, 2)), 0, 0, 0],\n",
    "            [0, 1, 0, 0],\n",
    "            [0, 0, 1, 0],\n",
    "            [0, 0, 0, 1]])\n",
    "\n",
    "A = Matrix([[1, 1, 1, 1],\n",
    "            [1, 1, 0, 0],\n",
    "            [1, 0, 1, 0],\n",
    "            [1, 0, 0, 1]])\n",
    "\n",
    "result = D * A * D / 2\n",
    "print(result)"
   ]
  },
  {
   "cell_type": "code",
   "execution_count": null,
   "metadata": {},
   "outputs": [],
   "source": []
  }
 ],
 "metadata": {
  "kernelspec": {
   "display_name": "base",
   "language": "python",
   "name": "python3"
  },
  "language_info": {
   "codemirror_mode": {
    "name": "ipython",
    "version": 3
   },
   "file_extension": ".py",
   "mimetype": "text/x-python",
   "name": "python",
   "nbconvert_exporter": "python",
   "pygments_lexer": "ipython3",
   "version": "3.12.4"
  }
 },
 "nbformat": 4,
 "nbformat_minor": 2
}
