{
 "cells": [
  {
   "cell_type": "code",
   "execution_count": 1,
   "metadata": {},
   "outputs": [],
   "source": [
    "import pandas as pd \n",
    "import numpy as np\n",
    "import matplotlib.pyplot as plt"
   ]
  },
  {
   "cell_type": "code",
   "execution_count": 15,
   "metadata": {},
   "outputs": [],
   "source": [
    "def Gale_Shapley_algorithm(men, men_preferences, women, women_preferences):\n",
    "    \"\"\" This function implements the Gale-Shapley algorithm for the stable marriage problem. \n",
    "    Parameters\n",
    "    ----------\n",
    "    men : list of strings\n",
    "        List of the names\n",
    "    women : list of strings\n",
    "        List of the names\n",
    "    men_preferences : dictionary\n",
    "        Dictionary with the preferences {'name1' : ['name1', 'name2', ..., 'namew'], ..., 'namem' : ['name1', 'name2', ..., 'namew']\n",
    "    \"\"\"\n",
    "    matches = {}\n",
    "    m = len(men)\n",
    "    w = len(women)\n",
    "    men_free = list(men)\n",
    "    women_free = list(women)\n",
    "    if m != w:\n",
    "        raise ValueError(\"The number of men is different from the number of women\")\n",
    "    while len(men_free) > 0:\n",
    "        # choose randomly a man \n",
    "        name = np.random.choice(men_free)\n",
    "        men_free.remove(name)\n",
    "        preferences = men_preferences[name]\n",
    "        for pref in preferences:\n",
    "            if pref in women_free:\n",
    "                matches[name] = pref\n",
    "                women_free.remove(pref)\n",
    "                break\n",
    "\n",
    "    print('\\n ')\n",
    "    print('Stable Matching Finished ! Happy engagement !')\n",
    "    for man in matches.keys():\n",
    "        print('{} is engaged to {} !'.format(man, matches[man]))\n",
    "    print('\\n ')\n",
    "    return matches"
   ]
  },
  {
   "cell_type": "code",
   "execution_count": 16,
   "metadata": {},
   "outputs": [
    {
     "name": "stdout",
     "output_type": "stream",
     "text": [
      "\n",
      " \n",
      "Stable Matching Finished ! Happy engagement !\n",
      "Mike is engaged to Rachel !\n",
      "Logan is engaged to Katrina !\n",
      "Louis is engaged to Sheila !\n",
      "Harvey is engaged to Donna !\n",
      "\n",
      " \n"
     ]
    }
   ],
   "source": [
    "Men = ['Mike', 'Harvey', 'Louis', 'Logan']\n",
    "Women = ['Rachel', 'Donna', 'Katrina', 'Sheila']\n",
    "\n",
    "# Preferences\n",
    "Men_Pref = {  # indicates the preferences of the men\n",
    "    'Mike':   ['Rachel', 'Katrina', 'Donna', 'Sheila'],\n",
    "    'Harvey': ['Donna', 'Katrina', 'Rachel', 'Sheila'],\n",
    "    'Louis':  ['Sheila', 'Donna', 'Katrina', 'Rachel'],\n",
    "    'Logan':  ['Rachel', 'Katrina', 'Donna', 'Sheila']\n",
    "}\n",
    "\n",
    "Women_Pref = {  # indicates the preferences of the women\n",
    "    'Rachel':  ['Mike', 'Logan', 'Harvey', 'Louis'],\n",
    "    'Donna':   ['Harvey', 'Louis', 'Mike', 'Logan'],\n",
    "    'Katrina': ['Mike', 'Harvey', 'Louis', 'Logan'],\n",
    "    'Sheila':  ['Louis', 'Logan', 'Harvey', 'Mike']\n",
    "}\n",
    "\n",
    "matches = Gale_Shapley_algorithm(men = Men, \n",
    "                                 men_preferences = Men_Pref, \n",
    "                                 women = Women, \n",
    "                                 women_preferences = Women_Pref\n",
    "                                 )"
   ]
  },
  {
   "cell_type": "code",
   "execution_count": 1,
   "metadata": {},
   "outputs": [],
   "source": [
    "def binary_search(A, target):\n",
    "    \"\"\"\n",
    "    Perform binary search on a sorted array to find the index of the target.\n",
    "\n",
    "    :param A: List[int] - A sorted array of integers\n",
    "    :param target: int - The target value to search for\n",
    "    :return: int - The index of the target if found, otherwise -1\n",
    "    \"\"\"\n",
    "    left, right = 0, len(A) - 1\n",
    "\n",
    "    while left <= right:\n",
    "        mid = (left + right) // 2  \n",
    "        if A[mid] == target:\n",
    "            return mid  \n",
    "        elif A[mid] < target:\n",
    "            left = mid + 1  \n",
    "        else:\n",
    "            right = mid - 1  \n",
    "\n",
    "    return -1"
   ]
  },
  {
   "cell_type": "code",
   "execution_count": 2,
   "metadata": {},
   "outputs": [],
   "source": [
    "def set_zeroes(matrix):\n",
    "    \"\"\"\n",
    "    Set the entire row and column to zero if an element is zero.\n",
    "    \n",
    "    :param matrix: List[List[int]] - The MxN matrix\n",
    "    :return: None - Modifies the matrix in place\n",
    "    \"\"\"\n",
    "    if not matrix or not matrix[0]:\n",
    "        return\n",
    "\n",
    "    m, n = len(matrix), len(matrix[0])\n",
    "    rows, cols = set(), set()\n",
    "\n",
    "    for i in range(m):\n",
    "        for j in range(n):\n",
    "            if matrix[i][j] == 0:\n",
    "                rows.add(i)\n",
    "                cols.add(j)\n",
    "\n",
    "    for row in rows:\n",
    "        for j in range(n):\n",
    "            matrix[row][j] = 0\n",
    "\n",
    "    for col in cols:\n",
    "        for i in range(m):\n",
    "            matrix[i][col] = 0"
   ]
  }
 ],
 "metadata": {
  "kernelspec": {
   "display_name": "base",
   "language": "python",
   "name": "python3"
  },
  "language_info": {
   "codemirror_mode": {
    "name": "ipython",
    "version": 3
   },
   "file_extension": ".py",
   "mimetype": "text/x-python",
   "name": "python",
   "nbconvert_exporter": "python",
   "pygments_lexer": "ipython3",
   "version": "3.12.4"
  }
 },
 "nbformat": 4,
 "nbformat_minor": 2
}
