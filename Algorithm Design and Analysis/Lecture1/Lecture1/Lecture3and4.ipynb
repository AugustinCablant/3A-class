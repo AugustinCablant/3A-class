{
 "cells": [
  {
   "cell_type": "code",
   "execution_count": 1,
   "metadata": {},
   "outputs": [],
   "source": [
    "import pandas as pd \n",
    "import numpy as np\n",
    "import matplotlib.pyplot as plt\n",
    "import seaborn as sns"
   ]
  },
  {
   "cell_type": "markdown",
   "metadata": {},
   "source": [
    "A priority queue is a data structure that stores a list of elements with priority values (or keys) such that we can quickly: \n",
    "\n",
    "▶ extract the element with highest priority\n",
    "\n",
    "▶ insert a new element with a given priority value\n",
    "\n",
    "Note: highest priority can be min or max. We’ll assume it’s min\n",
    "\n",
    "**HEAP** : Un heap est une structure de données basée sur un arbre binaire qui respecte une propriété spécifique appelée propriété du tas. Cette structure est souvent utilisée pour implémenter efficacement des algorithmes comme le tri par tas (heap sort) ou pour construire des files de priorité. Chaque nœud respecte une relation particulière avec ses enfants (ici, le valeur du parent est plus grande que celle de l'enfant): \n",
    "\n",
    "       10\n",
    "      /  \\\n",
    "    20    15\n",
    "   /  \\   /  \\  \n",
    "  30   40 25\n",
    "  \n"
   ]
  },
  {
   "cell_type": "code",
   "execution_count": 4,
   "metadata": {},
   "outputs": [
    {
     "name": "stdout",
     "output_type": "stream",
     "text": [
      "[60, 30, 50, 10, 20, 40]\n"
     ]
    }
   ],
   "source": [
    "def Heapify_up(H, i):\n",
    "    if i > 0:\n",
    "        parent = (i-1) // 2\n",
    "        if H[parent] < H[i]:\n",
    "            H[parent], H[i] = H[i], H[parent]\n",
    "            i = parent\n",
    "            Heapify_up(H, parent)\n",
    "\n",
    "heap = [50, 30, 40, 10, 20]\n",
    "heap.append(60)  # Insert new element at the end\n",
    "Heapify_up(heap, len(heap) - 1)  # Heapify up the last element\n",
    "print(heap) "
   ]
  },
  {
   "cell_type": "markdown",
   "metadata": {},
   "source": [
    "Quicksort "
   ]
  },
  {
   "cell_type": "code",
   "execution_count": 5,
   "metadata": {},
   "outputs": [
    {
     "name": "stdout",
     "output_type": "stream",
     "text": [
      "[1, 2, 3, 4, 5, 6, 7, 8]\n"
     ]
    }
   ],
   "source": [
    "def QuickSort(A, p, r):\n",
    "    if p < r:\n",
    "        q = Partition(A, p, r)\n",
    "        QuickSort(A, p, q - 1)\n",
    "        QuickSort(A, q + 1, r)\n",
    "\n",
    "def Partition(A, p, r):\n",
    "    x = A[r]\n",
    "    i = p-1\n",
    "    for j in range(p, r):\n",
    "        if A[j] <= x:\n",
    "            i +=1\n",
    "            A[i], A[j] = A[j], A[i]\n",
    "    A[i+1], A[r] = A[r], A[i+1]\n",
    "    return i+1\n",
    "\n",
    "A = [2, 8, 7, 1, 3, 5, 6, 4]\n",
    "QuickSort(A, 0, len(A) - 1)\n",
    "print(A)"
   ]
  },
  {
   "cell_type": "markdown",
   "metadata": {},
   "source": [
    "To determine if a binary tree is a binary search tree (BST), we need to ensure that for each node:\n",
    "\n",
    "- All the values in the left subtree are less than the node's value.\n",
    "\n",
    "- All the values in the right subtree are greater than the node's value.\n",
    "\n",
    "- Both left and right subtrees must themselves be BSTs."
   ]
  },
  {
   "cell_type": "code",
   "execution_count": 6,
   "metadata": {},
   "outputs": [
    {
     "name": "stdout",
     "output_type": "stream",
     "text": [
      "True\n"
     ]
    }
   ],
   "source": [
    "class TreeNode:\n",
    "    def __init__(self, value=0, left=None, right=None):\n",
    "        self.value = value\n",
    "        self.left = left\n",
    "        self.right = right\n",
    "\n",
    "def is_valid_bst(node, min_val=float('-inf'), max_val=float('inf')):\n",
    "    \"\"\"\n",
    "    Checks if a binary tree is a valid BST.\n",
    "    \n",
    "    Args:\n",
    "        node (TreeNode): The root of the binary tree.\n",
    "        min_val (int): The minimum value that the current node can take.\n",
    "        max_val (int): The maximum value that the current node can take.\n",
    "    \n",
    "    Returns:\n",
    "        bool: True if the tree is a BST, False otherwise.\n",
    "    \"\"\"\n",
    "    # An empty tree is a BST\n",
    "    if not node:\n",
    "        return True\n",
    "    \n",
    "    # Check the current node's value is within the valid range\n",
    "    if not (min_val < node.value < max_val):\n",
    "        return False\n",
    "    \n",
    "    # Recursively check the left and right subtrees with updated ranges\n",
    "    return (is_valid_bst(node.left, min_val, node.value) and\n",
    "            is_valid_bst(node.right, node.value, max_val))\n",
    "\n",
    "# Example Usage\n",
    "if __name__ == \"__main__\":\n",
    "    # Constructing a binary tree\n",
    "    #        10\n",
    "    #       /  \\\n",
    "    #      5    15\n",
    "    #          /  \\\n",
    "    #         12   20\n",
    "    root = TreeNode(10)\n",
    "    root.left = TreeNode(5)\n",
    "    root.right = TreeNode(15)\n",
    "    root.right.left = TreeNode(12)\n",
    "    root.right.right = TreeNode(20)\n",
    "\n",
    "    print(is_valid_bst(root))  # Output: True"
   ]
  },
  {
   "cell_type": "markdown",
   "metadata": {},
   "source": [
    "Le problème de maintenance de la médiane est le suivant : vous recevez une séquence d'entiers. À chaque fois qu'un nouvel élément est ajouté, vous devez fournir la médiane de la liste des éléments reçus jusqu'à présent."
   ]
  },
  {
   "cell_type": "code",
   "execution_count": 8,
   "metadata": {},
   "outputs": [
    {
     "name": "stdout",
     "output_type": "stream",
     "text": [
      "Median: 6.5\n",
      "Median: 10\n",
      "Median: 5.5\n",
      "Median: 1\n",
      "Median: 2.0\n",
      "Median: 2\n",
      "Median: 9.0\n",
      "Median: 12\n",
      "Median: 12.0\n",
      "Median: 20\n",
      "Median: 16.5\n",
      "Median: 13\n",
      "Median: 11.0\n",
      "Median: 15\n",
      "Median: 37.0\n",
      "Median: 8\n",
      "Median: 3.5\n",
      "Median: 3\n",
      "Median: 20.5\n",
      "Median: 9\n",
      "Median: 5.5\n",
      "Median: 10\n",
      "Median: 22.5\n",
      "Median: 1\n",
      "Median: 25.0\n",
      "Median: 2\n",
      "Median: 6.5\n",
      "Median: 2\n",
      "Median: 11.0\n",
      "Median: 6\n",
      "Median: 42.0\n",
      "Median: 12\n",
      "Median: 5.0\n",
      "Median: 4\n",
      "Median: 20.0\n",
      "Median: 6\n",
      "Median: 31.0\n",
      "Median: 20\n",
      "Median: 44.0\n",
      "Median: 13\n",
      "Median: 13.5\n",
      "Median: 7\n",
      "Median: 12.5\n",
      "Median: 15\n",
      "Median: 39.0\n",
      "Median: 12\n",
      "Median: 10.0\n",
      "Median: 8\n",
      "Median: 14.0\n",
      "Median: 4\n",
      "Median: 17.5\n",
      "Median: 3\n",
      "Median: 34.5\n",
      "Median: 32\n",
      "Median: 20.5\n",
      "Median: 9\n",
      "Median: 11.0\n",
      "Median: 1\n",
      "Median: 21.5\n",
      "Median: 10\n",
      "Median: 34.5\n",
      "Median: 25\n",
      "Median: 13.0\n",
      "Median: 1\n",
      "Median: 56.0\n",
      "Median: 48\n",
      "Median: 33.0\n",
      "Median: 2\n",
      "Median: 15.0\n",
      "Median: 11\n",
      "Median: 34.0\n",
      "Median: 2\n",
      "Median: 37.5\n",
      "Median: 16\n",
      "Median: 32.5\n",
      "Median: 6\n",
      "Median: 40.0\n",
      "Median: 26\n",
      "Median: 48.5\n",
      "Median: 12\n",
      "Median: 9.0\n",
      "Median: 6\n",
      "Median: 25.5\n",
      "Median: 4\n",
      "Median: 36.5\n",
      "Median: 34\n",
      "Median: 45.0\n",
      "Median: 6\n",
      "Median: 53.0\n",
      "Median: 42\n",
      "Median: 31.0\n",
      "Median: 20\n",
      "Median: 42.5\n",
      "Median: 10\n",
      "Median: 49.0\n",
      "Median: 13\n",
      "Median: 20.5\n",
      "Median: 20\n",
      "Median: 19.0\n",
      "Median: 7\n"
     ]
    }
   ],
   "source": [
    "initial_array = [1, 4, 6, 3, 2, 4, 7, 8, 10, 1, 2, 12, 20, 13, 15]\n",
    "for _ in range(100):\n",
    "    added = np.random.randint(0, 100)\n",
    "    initial_array.append(added)\n",
    "    Heapify_up(initial_array, len(initial_array) - 1)\n",
    "    n = len(initial_array)\n",
    "    if n % 2 == 0:\n",
    "        median = (initial_array[n//2] + initial_array[n//2 - 1]) / 2\n",
    "    else:\n",
    "        median = initial_array[n//2]\n",
    "    print(f\"Median: {median}\")\n"
   ]
  }
 ],
 "metadata": {
  "kernelspec": {
   "display_name": "base",
   "language": "python",
   "name": "python3"
  },
  "language_info": {
   "codemirror_mode": {
    "name": "ipython",
    "version": 3
   },
   "file_extension": ".py",
   "mimetype": "text/x-python",
   "name": "python",
   "nbconvert_exporter": "python",
   "pygments_lexer": "ipython3",
   "version": "3.12.4"
  }
 },
 "nbformat": 4,
 "nbformat_minor": 2
}
