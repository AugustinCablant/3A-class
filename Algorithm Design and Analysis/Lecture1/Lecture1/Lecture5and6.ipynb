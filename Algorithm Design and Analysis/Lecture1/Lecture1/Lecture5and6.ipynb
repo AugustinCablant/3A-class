{
 "cells": [
  {
   "cell_type": "code",
   "execution_count": 1,
   "metadata": {},
   "outputs": [],
   "source": [
    "import pandas as pd \n",
    "import numpy as np\n",
    "import matplotlib.pyplot as plt\n",
    "import seaborn as sns"
   ]
  },
  {
   "cell_type": "code",
   "execution_count": 10,
   "metadata": {},
   "outputs": [
    {
     "name": "stdout",
     "output_type": "stream",
     "text": [
      "[3, 9, 26, 38, 41, 49, 52, 57]\n"
     ]
    }
   ],
   "source": [
    "def Merge(L, R):\n",
    "    \"\"\" Recursive version\"\"\"\n",
    "    l = len(L)\n",
    "    r = len(R)\n",
    "    if r == 0:\n",
    "        return L\n",
    "    elif l==0:\n",
    "        return R\n",
    "    #print(L, R)\n",
    "    if L[0] <= R[0]:\n",
    "        return [L[0]] + Merge(L[1:], R)\n",
    "    else:\n",
    "        return [R[0]] + Merge(L, R[1:])\n",
    "\n",
    "\n",
    "def MergeSort(A):\n",
    "    n = len(A)\n",
    "    if n > 1:\n",
    "        q = n // 2\n",
    "        L = MergeSort(A[:q])\n",
    "        R = MergeSort(A[q:])\n",
    "        return Merge(L, R)\n",
    "    else:\n",
    "        return A\n",
    "    \n",
    "A = [3, 41, 52, 26, 38, 57, 9, 49]\n",
    "print(MergeSort(A))"
   ]
  },
  {
   "cell_type": "code",
   "execution_count": 11,
   "metadata": {},
   "outputs": [
    {
     "name": "stdout",
     "output_type": "stream",
     "text": [
      "56\n"
     ]
    }
   ],
   "source": [
    "A = [3, 41, 52, 26, 38, 57, 9, 49, 1]\n",
    "# Find max(A[i] - A[j]) \n",
    "\n",
    "def FindMaxDiff(A):\n",
    "    n = len(A)\n",
    "    A_sorted = MergeSort(A)\n",
    "    return A_sorted[-1] - A_sorted[0]\n",
    "\n",
    "print(FindMaxDiff(A))"
   ]
  },
  {
   "cell_type": "code",
   "execution_count": 14,
   "metadata": {},
   "outputs": [
    {
     "name": "stdout",
     "output_type": "stream",
     "text": [
      "   0  1  2  3  4  5\n",
      "0  0  0  0  0  0  0\n",
      "1  0  0  3  3  3  3\n",
      "2  0  0  3  4  4  7\n",
      "3  0  0  3  4  5  7\n",
      "4  0  0  3  4  5  7\n",
      "7\n"
     ]
    }
   ],
   "source": [
    "def knapsack(weights, values, W):\n",
    "    n = len(weights)\n",
    "\n",
    "    DP = [[0 for _ in range(W + 1)] for _ in range(n + 1)]\n",
    "    \n",
    "    for i in range(1, n + 1):\n",
    "        for w in range(1, W + 1):\n",
    "            if weights[i-1] <= w:  \n",
    "                DP[i][w] = max(DP[i-1][w], DP[i-1][w - weights[i-1]] + values[i-1])\n",
    "            else:\n",
    "                DP[i][w] = DP[i-1][w]  \n",
    "    print(pd.DataFrame(DP))\n",
    "    return DP[n][W]\n",
    "\n",
    "# Exemple d'utilisation\n",
    "weights = [2, 3, 4, 5]  \n",
    "values = [3, 4, 5, 6]   \n",
    "W = 5                   \n",
    "print(knapsack(weights, values, W))  \n"
   ]
  },
  {
   "cell_type": "code",
   "execution_count": 15,
   "metadata": {},
   "outputs": [
    {
     "name": "stdout",
     "output_type": "stream",
     "text": [
      "55\n"
     ]
    }
   ],
   "source": [
    "def Fibo_n(n):\n",
    "    if n == 0:\n",
    "        return 0\n",
    "    elif n == 1:\n",
    "        return 1\n",
    "    else:\n",
    "        return Fibo_n(n-1) + Fibo_n(n-2)\n",
    "print(Fibo_n(10))"
   ]
  },
  {
   "cell_type": "code",
   "execution_count": 39,
   "metadata": {},
   "outputs": [
    {
     "name": "stdout",
     "output_type": "stream",
     "text": [
      "[1, 3, 9, 9, 26, 38, 41, 41, 49, 52, 52, 57]\n"
     ]
    },
    {
     "data": {
      "text/plain": [
       "4"
      ]
     },
     "execution_count": 39,
     "metadata": {},
     "output_type": "execute_result"
    }
   ],
   "source": [
    "def length_sub_increasing_sequence_strict(A):\n",
    "    n = len(A)\n",
    "    A_sorted = MergeSort(A)\n",
    "    print(A_sorted)\n",
    "    dp = [1] * n \n",
    "    for i in list(range(1, n))[::-1]:\n",
    "        last = i\n",
    "        for j in list(range(i))[::-1]:\n",
    "            if A_sorted[j] < A_sorted[last]:\n",
    "                dp[i] += 1\n",
    "                last = j\n",
    "            else:\n",
    "                break\n",
    "    return max(dp)\n",
    "\n",
    "A = [1, 3, 41, 52, 26, 9 , 41, 38, 57, 9, 49, 52]\n",
    "length_sub_increasing_sequence_strict(A)"
   ]
  },
  {
   "cell_type": "code",
   "execution_count": 32,
   "metadata": {},
   "outputs": [
    {
     "data": {
      "text/plain": [
       "[9, 8, 7, 6, 5, 4, 3, 2, 1, 0]"
      ]
     },
     "execution_count": 32,
     "metadata": {},
     "output_type": "execute_result"
    }
   ],
   "source": [
    "list(range(1, n))[-1]"
   ]
  },
  {
   "cell_type": "code",
   "execution_count": null,
   "metadata": {},
   "outputs": [],
   "source": []
  }
 ],
 "metadata": {
  "kernelspec": {
   "display_name": "base",
   "language": "python",
   "name": "python3"
  },
  "language_info": {
   "codemirror_mode": {
    "name": "ipython",
    "version": 3
   },
   "file_extension": ".py",
   "mimetype": "text/x-python",
   "name": "python",
   "nbconvert_exporter": "python",
   "pygments_lexer": "ipython3",
   "version": "3.12.4"
  }
 },
 "nbformat": 4,
 "nbformat_minor": 2
}
