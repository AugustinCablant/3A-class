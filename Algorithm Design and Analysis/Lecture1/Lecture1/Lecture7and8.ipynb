{
 "cells": [
  {
   "cell_type": "code",
   "execution_count": 1,
   "metadata": {},
   "outputs": [],
   "source": [
    "import numpy as np"
   ]
  },
  {
   "cell_type": "code",
   "execution_count": 3,
   "metadata": {},
   "outputs": [
    {
     "name": "stdout",
     "output_type": "stream",
     "text": [
      "(1, 9)\n"
     ]
    }
   ],
   "source": [
    "def matching(Array, S):\n",
    "    n = len(Array)\n",
    "    for i in range(n):\n",
    "        for j in range(n):\n",
    "            if i != j:\n",
    "                if Array[i] + Array[j] == S:\n",
    "                    return (Array[i], Array[j])\n",
    "    return print(\"No matching pair found\")\n",
    "\n",
    "def main():\n",
    "    Array = np.array([1, 2, 3, 4, 5, 6, 7, 8, 9])\n",
    "    S = 10\n",
    "    print(matching(Array, S))\n",
    "main()"
   ]
  },
  {
   "cell_type": "code",
   "execution_count": 4,
   "metadata": {},
   "outputs": [
    {
     "name": "stdout",
     "output_type": "stream",
     "text": [
      "(3, 5)\n"
     ]
    }
   ],
   "source": [
    "def two_sum(A, S):\n",
    "    seen = {}\n",
    "    for i, x in enumerate(A):\n",
    "        if S - x in seen:\n",
    "            return seen[S - x], i\n",
    "        seen[x] = i\n",
    "    return None\n",
    "\n",
    "def main():\n",
    "    A = [1, 2, 3, 4, 5, 6, 7, 8, 9]\n",
    "    S = 10\n",
    "    print(two_sum(A, S))\n",
    "main()\n"
   ]
  },
  {
   "cell_type": "code",
   "execution_count": 5,
   "metadata": {},
   "outputs": [
    {
     "name": "stdout",
     "output_type": "stream",
     "text": [
      "(3, 0, 4)\n"
     ]
    }
   ],
   "source": [
    "def three_sum(a, S):\n",
    "    for i in range(len(a)):\n",
    "        seen = {}\n",
    "        for j in range(i + 1, len(a)):\n",
    "            target = S - a[i] - a[j]\n",
    "            if target in seen:\n",
    "                return seen[target], i, j\n",
    "            seen[a[j]] = j\n",
    "    return None\n",
    "\n",
    "def main():\n",
    "    a = [1, 2, 3, 4, 5, 6, 7, 8, 9]\n",
    "    S = 10\n",
    "    print(three_sum(a, S))\n",
    "main()"
   ]
  },
  {
   "cell_type": "code",
   "execution_count": 23,
   "metadata": {},
   "outputs": [
    {
     "name": "stdout",
     "output_type": "stream",
     "text": [
      "[0, 1, 2, 3]\n"
     ]
    }
   ],
   "source": [
    "def k_sum(a, S, k):\n",
    "    def backtrack(start, subset, current_sum):\n",
    "        if len(subset) == k:\n",
    "            if current_sum == S:\n",
    "                return subset\n",
    "            return None\n",
    "        \n",
    "        for i in range(start, len(a)):\n",
    "            result = backtrack(i + 1, subset + [i], current_sum + a[i])\n",
    "            if result:\n",
    "                return result\n",
    "        return None\n",
    "    \n",
    "    return backtrack(0, [], 0)\n",
    "\n",
    "def main():\n",
    "    a = [1, 2, 3, 4, 5, 6, 7, 8, 9]\n",
    "    S = 10\n",
    "    k = 3\n",
    "    print(k_sum(a, S, 4))\n",
    "main()\n"
   ]
  },
  {
   "cell_type": "code",
   "execution_count": 2,
   "metadata": {},
   "outputs": [
    {
     "name": "stdout",
     "output_type": "stream",
     "text": [
      "[[[2, 2], [3, 4], [5, 7]], [[2, 2], [5, 7], [7, 8]], [[3, 4], [5, 7], [7, 8]], [[2, 2], [3, 4], [7, 8]]]\n",
      "4\n"
     ]
    }
   ],
   "source": [
    "def getThreeNonOverlappingIntervals(starting, ending):\n",
    "    # Write your code here\n",
    "    def check(interval1, interval2):\n",
    "        return interval1[1] <= interval2[0] or interval2[1] <= interval1[0]\n",
    "    n = len(starting)\n",
    "    assert n == len(ending)\n",
    "    intervals = [[start, end] for start, end in zip(starting, ending)]\n",
    "    three_ways = []\n",
    "    for i in range(n):\n",
    "        for j in range(i + 1, n):\n",
    "            for k in range(j + 1, n):\n",
    "                three_way_pot = [intervals[i], intervals[j], intervals[k]]\n",
    "                if check(three_way_pot[0], three_way_pot[1]) and check(three_way_pot[0], three_way_pot[2]) and check(three_way_pot[1], three_way_pot[2]):\n",
    "                    sorted_three_way = sorted(three_way_pot)\n",
    "                    if sorted_three_way not in three_ways:\n",
    "                        three_ways.append(sorted_three_way)\n",
    "    print(three_ways)\n",
    "    return len(three_ways)\n",
    "starting = [5, 2, 3, 7]\n",
    "ending = [7, 2, 4, 8]\n",
    "print(getThreeNonOverlappingIntervals(starting, ending))"
   ]
  },
  {
   "cell_type": "code",
   "execution_count": 12,
   "metadata": {},
   "outputs": [
    {
     "data": {
      "text/plain": [
       "230"
      ]
     },
     "execution_count": 12,
     "metadata": {},
     "output_type": "execute_result"
    }
   ],
   "source": [
    "def getMaxRequests(bandwidth, request, total_bandwidth):\n",
    "    # Write your code here\n",
    "    assert len(bandwidth) == len(request)\n",
    "    size = len(bandwidth)\n",
    "    feasible = []\n",
    "    def dfs(liste):\n",
    "        n = len(liste[0])\n",
    "        next_liste = []\n",
    "        for i in range(size):\n",
    "            if (i not in liste[0]) and ((bandwidth[i] + liste[1]) <= total_bandwidth):\n",
    "                next_liste_0 = liste[0] + [i]\n",
    "                next_liste.append(next_liste_0)\n",
    "                next_liste_1 = liste[1] + bandwidth[i]\n",
    "                next_liste.append(next_liste_1)\n",
    "                dfs(next_liste)\n",
    "        if liste[1] <= total_bandwidth:\n",
    "            feasible.append(liste)\n",
    "    def compute_score(indices):\n",
    "        score = 0\n",
    "        for i in indices:\n",
    "            score += request[i]\n",
    "        return score\n",
    "    for el in range(size):\n",
    "        dfs([[el], request[el]])\n",
    "    scores = [compute_score(l[0]) for l in feasible]\n",
    "    return max(scores)\n",
    "\n",
    "getMaxRequests(bandwidth = [100, 500, 80, 25, 400] , request = [100, 1000, 120, 110, 100], total_bandwidth = 200)"
   ]
  },
  {
   "cell_type": "code",
   "execution_count": null,
   "metadata": {},
   "outputs": [],
   "source": []
  }
 ],
 "metadata": {
  "kernelspec": {
   "display_name": "base",
   "language": "python",
   "name": "python3"
  },
  "language_info": {
   "codemirror_mode": {
    "name": "ipython",
    "version": 3
   },
   "file_extension": ".py",
   "mimetype": "text/x-python",
   "name": "python",
   "nbconvert_exporter": "python",
   "pygments_lexer": "ipython3",
   "version": "3.12.4"
  }
 },
 "nbformat": 4,
 "nbformat_minor": 2
}
