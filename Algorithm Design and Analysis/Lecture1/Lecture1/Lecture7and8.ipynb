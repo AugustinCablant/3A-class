{
 "cells": [
  {
   "cell_type": "code",
   "execution_count": 1,
   "metadata": {},
   "outputs": [],
   "source": [
    "import numpy as np"
   ]
  },
  {
   "cell_type": "code",
   "execution_count": 3,
   "metadata": {},
   "outputs": [
    {
     "name": "stdout",
     "output_type": "stream",
     "text": [
      "(1, 9)\n"
     ]
    }
   ],
   "source": [
    "def matching(Array, S):\n",
    "    n = len(Array)\n",
    "    for i in range(n):\n",
    "        for j in range(n):\n",
    "            if i != j:\n",
    "                if Array[i] + Array[j] == S:\n",
    "                    return (Array[i], Array[j])\n",
    "    return print(\"No matching pair found\")\n",
    "\n",
    "def main():\n",
    "    Array = np.array([1, 2, 3, 4, 5, 6, 7, 8, 9])\n",
    "    S = 10\n",
    "    print(matching(Array, S))\n",
    "main()"
   ]
  },
  {
   "cell_type": "code",
   "execution_count": 4,
   "metadata": {},
   "outputs": [
    {
     "name": "stdout",
     "output_type": "stream",
     "text": [
      "(3, 5)\n"
     ]
    }
   ],
   "source": [
    "def two_sum(A, S):\n",
    "    seen = {}\n",
    "    for i, x in enumerate(A):\n",
    "        if S - x in seen:\n",
    "            return seen[S - x], i\n",
    "        seen[x] = i\n",
    "    return None\n",
    "\n",
    "def main():\n",
    "    A = [1, 2, 3, 4, 5, 6, 7, 8, 9]\n",
    "    S = 10\n",
    "    print(two_sum(A, S))\n",
    "main()\n"
   ]
  },
  {
   "cell_type": "code",
   "execution_count": 5,
   "metadata": {},
   "outputs": [
    {
     "name": "stdout",
     "output_type": "stream",
     "text": [
      "(3, 0, 4)\n"
     ]
    }
   ],
   "source": [
    "def three_sum(a, S):\n",
    "    for i in range(len(a)):\n",
    "        seen = {}\n",
    "        for j in range(i + 1, len(a)):\n",
    "            target = S - a[i] - a[j]\n",
    "            if target in seen:\n",
    "                return seen[target], i, j\n",
    "            seen[a[j]] = j\n",
    "    return None\n",
    "\n",
    "def main():\n",
    "    a = [1, 2, 3, 4, 5, 6, 7, 8, 9]\n",
    "    S = 10\n",
    "    print(three_sum(a, S))\n",
    "main()"
   ]
  },
  {
   "cell_type": "code",
   "execution_count": 23,
   "metadata": {},
   "outputs": [
    {
     "name": "stdout",
     "output_type": "stream",
     "text": [
      "[0, 1, 2, 3]\n"
     ]
    }
   ],
   "source": [
    "def k_sum(a, S, k):\n",
    "    def backtrack(start, subset, current_sum):\n",
    "        if len(subset) == k:\n",
    "            if current_sum == S:\n",
    "                return subset\n",
    "            return None\n",
    "        \n",
    "        for i in range(start, len(a)):\n",
    "            result = backtrack(i + 1, subset + [i], current_sum + a[i])\n",
    "            if result:\n",
    "                return result\n",
    "        return None\n",
    "    \n",
    "    return backtrack(0, [], 0)\n",
    "\n",
    "def main():\n",
    "    a = [1, 2, 3, 4, 5, 6, 7, 8, 9]\n",
    "    S = 10\n",
    "    k = 3\n",
    "    print(k_sum(a, S, 4))\n",
    "main()\n"
   ]
  },
  {
   "cell_type": "code",
   "execution_count": null,
   "metadata": {},
   "outputs": [],
   "source": []
  }
 ],
 "metadata": {
  "kernelspec": {
   "display_name": "base",
   "language": "python",
   "name": "python3"
  },
  "language_info": {
   "codemirror_mode": {
    "name": "ipython",
    "version": 3
   },
   "file_extension": ".py",
   "mimetype": "text/x-python",
   "name": "python",
   "nbconvert_exporter": "python",
   "pygments_lexer": "ipython3",
   "version": "3.12.4"
  }
 },
 "nbformat": 4,
 "nbformat_minor": 2
}
