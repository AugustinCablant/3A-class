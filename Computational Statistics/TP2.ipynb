{
 "cells": [
  {
   "cell_type": "code",
   "execution_count": 1,
   "metadata": {},
   "outputs": [],
   "source": [
    "import matplotlib.pyplot as plt\n",
    "import numpy as np"
   ]
  },
  {
   "cell_type": "markdown",
   "metadata": {},
   "source": [
    "# Exercise 1: \n",
    "\n",
    "## Question 2:"
   ]
  },
  {
   "cell_type": "code",
   "execution_count": 36,
   "metadata": {},
   "outputs": [
    {
     "name": "stdout",
     "output_type": "stream",
     "text": [
      "Random simulations from X: [89058 93969 21606 20544 53135 58577 63914 59846 58086 54948]\n"
     ]
    }
   ],
   "source": [
    "def F(x, X, p):\n",
    "    \"\"\" Cumulative Distribution Function F\n",
    "    Parameters:\n",
    "        X (list): list\n",
    "        x (float): value\n",
    "        p (list): probas\n",
    "    Returns:\n",
    "        k (int): as defined in the algorithm\n",
    "    \"\"\"\n",
    "    n = len(X)\n",
    "    proba = 0.0\n",
    "    for k in range(n):\n",
    "        if X[k] <= x:\n",
    "            proba += p[k]\n",
    "        else:\n",
    "            break\n",
    "    return proba\n",
    "\n",
    "\n",
    "def algorithm1(X, p, n_sample):\n",
    "    \"\"\" Algorithm 1 \n",
    "    Parameters:\n",
    "        X (list): list \n",
    "        p (list): probas\n",
    "        n_sample (int): number of samples\n",
    "    Returns:\n",
    "        k (list): as defned in the algorithm\n",
    "    \"\"\"\n",
    "    U = np.random.uniform(0, 1, n_sample)\n",
    "    list_k = []\n",
    "    for u in U:\n",
    "        cumulative_sum = 0\n",
    "        for idx, prob in enumerate(p):\n",
    "            cumulative_sum += prob\n",
    "            if cumulative_sum >= u:\n",
    "                list_k.append(X[idx])\n",
    "                break\n",
    "    return list_k\n",
    "\n",
    "n = 10 ** 4    # Dimension of the space\n",
    "prob_vector = np.random.rand(n) / n\n",
    "X = np.random.randint(0, 10 ** 5,\n",
    "                      size = n)\n",
    "X = np.sort(X)\n",
    "X_simul = algorithm1(X, prob_vector, 100)\n",
    "print(\"Random simulations from X:\", np.random.choice(X_simul, 10, replace=False))"
   ]
  },
  {
   "cell_type": "code",
   "execution_count": null,
   "metadata": {},
   "outputs": [],
   "source": []
  }
 ],
 "metadata": {
  "kernelspec": {
   "display_name": "base",
   "language": "python",
   "name": "python3"
  },
  "language_info": {
   "codemirror_mode": {
    "name": "ipython",
    "version": 3
   },
   "file_extension": ".py",
   "mimetype": "text/x-python",
   "name": "python",
   "nbconvert_exporter": "python",
   "pygments_lexer": "ipython3",
   "version": "3.12.4"
  }
 },
 "nbformat": 4,
 "nbformat_minor": 2
}
