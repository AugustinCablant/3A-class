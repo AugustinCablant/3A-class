{
 "cells": [
  {
   "cell_type": "markdown",
   "metadata": {},
   "source": [
    "# TP 3: Hasting-Metropolis (and Gibbs) samplers"
   ]
  },
  {
   "cell_type": "code",
   "execution_count": 2,
   "metadata": {},
   "outputs": [],
   "source": [
    "# imports \n",
    "import matplotlib.pyplot as plt\n",
    "import numpy as np\n",
    "from scipy.stats import invwishart\n",
    "from tqdm import tqdm\n",
    "import scipy"
   ]
  },
  {
   "cell_type": "markdown",
   "metadata": {},
   "source": [
    "## Exercise 1: Hasting-Metropolis within Gibbs – Stochastic Approximation EM\n",
    "\n",
    "#### Question 2 : Generate synthetic data from the model by taking some reasonable values for the parameters."
   ]
  },
  {
   "cell_type": "code",
   "execution_count": 18,
   "metadata": {},
   "outputs": [
    {
     "name": "stdout",
     "output_type": "stream",
     "text": [
      "Y shape is : (1000, 9)\n"
     ]
    },
    {
     "name": "stderr",
     "output_type": "stream",
     "text": [
      "/var/folders/t6/khg6jj9s4_b0lqrt24p4bvs00000gn/T/ipykernel_2387/3065088622.py:50: RuntimeWarning: overflow encountered in exp\n",
      "  alpha_i = np.exp(xi)\n"
     ]
    }
   ],
   "source": [
    "# First we fix some parameters \n",
    "N = 10 ** 3     # Number of individuals \n",
    "K = np.random.uniform(low = 8, high = 10, size = N)    # Number of observations per individual\n",
    "K = K.astype(int)\n",
    "\n",
    "# Note that sigma will always refers to the covariance matrix of the data (or the variance of the data) that's to say sigma = sigma^2 ! \n",
    "p0 = 1 \n",
    "sigma_t0 = 1\n",
    "sigma_v0 = 2.5 \n",
    "t0_barbar, st0 = 1, 1\n",
    "v0_barbar, sv0 = 2.5, 5\n",
    "v_xi, m_xi = 0.5, 1\n",
    "v_tau, m_tau = 0.5, 1\n",
    "v, m = 0.5, 1\n",
    "\n",
    "# We generate the data\n",
    "\n",
    "def average_trajectory(t, p0, v0):\n",
    "    \"\"\" Average trajectory \"\"\"\n",
    "    return p0 + v0 * (t - v0)\n",
    "\n",
    "def individual_trajectory(t, p0, v0, t0, alpha_i, tau_i):\n",
    "    \"\"\" Individual trajectory of an individual \"\"\"\n",
    "    return average_trajectory(alpha_i * (t - t0 - tau_i) + t0, p0, v0)[0]\n",
    "\n",
    "def generate_data(N, K, p0, sigma_t0, sigma_v0, t0_barbar, st0, v0_barbar, sv0):\n",
    "    \"\"\" \n",
    "    Parameters\n",
    "    ----------\n",
    "    \n",
    "    Returns\n",
    "    -------\n",
    "    Y : np.array of size (N, K)\n",
    "        Where K = max(K_i) for i in range(N)\n",
    "        The data generated\n",
    "    Y[i, :] denotes each individual i,  each individual has K_i observations Y[i, j] for j in range(K_i) and then 0 for j > K_i\n",
    "    \"\"\"\n",
    "    Y = []\n",
    "    sigma = invwishart.rvs(df = 1, scale = 1, size = N)\n",
    "    sigma_xi = invwishart.rvs(df = 1, scale = 1, size = N)\n",
    "    sigma_tau = invwishart.rvs(df = 1, scale = 1, size = N)\n",
    "    t0_bar = np.random.normal(loc = t0_barbar, scale = st0, size = N)\n",
    "    v0_bar = np.random.normal(loc = v0_barbar, scale = sv0, size = N)\n",
    "    K_max = max(K)\n",
    "    for i in range(N):\n",
    "        Y_i = []\n",
    "        K_i = K[i]\n",
    "        epsilon_i = np.random.normal(loc = 0, scale = sigma[i], size = K_i)\n",
    "        xi = np.random.normal(loc = 0, scale = sigma_xi[i], size = 1)\n",
    "        alpha_i = np.exp(xi)\n",
    "        tau_i = np.random.normal(loc = 0, scale = sigma_tau[i], size = 1)\n",
    "        t_0 = np.random.normal(loc = t0_bar[i], scale = sigma_t0)\n",
    "        v_0 = np.random.normal(loc = v0_bar[i], scale = sigma_v0)\n",
    "        for j in range(1, K_i + 1):\n",
    "            Y_ij = individual_trajectory(j, p0, v_0, t_0, alpha_i, tau_i) + epsilon_i[j - 1]\n",
    "            Y_i.append(Y_ij)\n",
    "        Y_i += [0] * (K_max - K_i)\n",
    "        Y_i = np.array(Y_i)\n",
    "        Y.append(Y_i)\n",
    "    return np.array(Y)\n",
    "\n",
    "Y = generate_data(N, K, p0, sigma_t0, sigma_v0, t0_barbar, st0, v0_barbar, sv0)\n",
    "print(\"Y shape is :\", Y.shape)"
   ]
  }
 ],
 "metadata": {
  "kernelspec": {
   "display_name": "base",
   "language": "python",
   "name": "python3"
  },
  "language_info": {
   "codemirror_mode": {
    "name": "ipython",
    "version": 3
   },
   "file_extension": ".py",
   "mimetype": "text/x-python",
   "name": "python",
   "nbconvert_exporter": "python",
   "pygments_lexer": "ipython3",
   "version": "3.12.4"
  }
 },
 "nbformat": 4,
 "nbformat_minor": 2
}
