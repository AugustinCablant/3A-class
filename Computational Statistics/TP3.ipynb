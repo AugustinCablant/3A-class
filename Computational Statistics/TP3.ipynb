{
 "cells": [
  {
   "cell_type": "markdown",
   "metadata": {},
   "source": [
    "# TP 3: Hasting-Metropolis (and Gibbs) samplers"
   ]
  },
  {
   "cell_type": "code",
   "execution_count": 1,
   "metadata": {},
   "outputs": [],
   "source": [
    "# imports \n",
    "import matplotlib.pyplot as plt\n",
    "import numpy as np\n",
    "np.random.seed(2024)"
   ]
  },
  {
   "cell_type": "markdown",
   "metadata": {},
   "source": [
    "## Exercise 1: Hasting-Metropolis within Gibbs – Stochastic Approximation EM"
   ]
  },
  {
   "cell_type": "markdown",
   "metadata": {},
   "source": [
    "#### 1. Write the complete log-likelihood of the previous model $ \\log q(y, z, \\theta ) $ and show that the proposed model belongs to the curved exponential family.\n",
    "\n",
    "Cf pdf file."
   ]
  },
  {
   "cell_type": "markdown",
   "metadata": {},
   "source": [
    "#### 2. Generate synthetic data from the model by taking some reasonable values for the parameters."
   ]
  },
  {
   "cell_type": "code",
   "execution_count": 2,
   "metadata": {},
   "outputs": [
    {
     "data": {
      "text/plain": [
       "<function __main__.average_trajectory.<locals>.<lambda>(t)>"
      ]
     },
     "execution_count": 2,
     "metadata": {},
     "output_type": "execute_result"
    }
   ],
   "source": [
    "def average_trajectory(p_0, v_0, t_0):\n",
    "    \"\"\" Returns a function that gives the average trajectory\n",
    "    with initial position p_0, initial velocity v_0, and initial time t_0.\"\"\"\n",
    "    return lambda t: p_0 + v_0 * (t - t_0)\n",
    "\n",
    "def individual_trajectory(p_0, v_0, t_0, alpha_i, tau_i):\n",
    "    \"\"\" Returns a function that gives the individual trajectory\n",
    "    \"\"\"\n",
    "    average_trajectory = average_trajectory(p_0, v_0, t_0)\n",
    "    return lambda t: average_trajectory(alpha_i * (t - t_0 - tau_i) + t_0)\n",
    "\n",
    "sigma_p0 = 0.1\n",
    "sigma_v0 = 0.1\n",
    "sigma_t0 = 0.1"
   ]
  },
  {
   "cell_type": "markdown",
   "metadata": {},
   "source": []
  }
 ],
 "metadata": {
  "kernelspec": {
   "display_name": "base",
   "language": "python",
   "name": "python3"
  },
  "language_info": {
   "codemirror_mode": {
    "name": "ipython",
    "version": 3
   },
   "file_extension": ".py",
   "mimetype": "text/x-python",
   "name": "python",
   "nbconvert_exporter": "python",
   "pygments_lexer": "ipython3",
   "version": "3.12.4"
  }
 },
 "nbformat": 4,
 "nbformat_minor": 2
}
