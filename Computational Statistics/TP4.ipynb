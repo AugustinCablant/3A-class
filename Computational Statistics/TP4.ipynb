{
 "cells": [
  {
   "cell_type": "code",
   "execution_count": 1,
   "metadata": {},
   "outputs": [],
   "source": [
    "import numpy as np \n",
    "import matplotlib.pyplot as plt"
   ]
  },
  {
   "cell_type": "markdown",
   "metadata": {},
   "source": [
    "# TP4 : Improve the Metropolis-Hastings algorithm\n",
    "\n",
    "## Exercise 1: Adaptive Metropolis-Hastings within Gibbs sampler\n",
    "\n",
    "### 1.A – Metropolis-Hastings within Gibbs sampler"
   ]
  },
  {
   "cell_type": "markdown",
   "metadata": {},
   "source": [
    "#### Question 1"
   ]
  },
  {
   "cell_type": "code",
   "execution_count": null,
   "metadata": {},
   "outputs": [],
   "source": [
    "# First initialize the parameters\n",
    "def initialize_parameters():\n",
    "    # Initialize the parameters\n",
    "    a = 10\n",
    "    sigma_x = 3\n",
    "    sigma_y = 3\n",
    "    return a, sigma_x, sigma_y\n",
    "\n",
    "a, sigma_x, sigma_y = initialize_parameters()\n",
    "\n",
    "# -------------------------------------- #\n",
    "\n",
    "# Define the target distribution and the proposal kernels\n",
    "def target_distribution(x, y, a):\n",
    "    \"\"\" Target distribution pi(x, y) \"\"\"\n",
    "    return np.exp( - (x ** 2 / a ** 2) - y ** 2 - (((x ** 2 / a ** 2) - y ** 2) ** 2) / 4)\n",
    "\n",
    "def proposal_kernel_x(x, y, sigma_x):\n",
    "    \"\"\" Proposal kernel P1 \"\"\"\n",
    "    x_prime = np.random.normal(x, sigma_x)\n",
    "    y_prime = y\n",
    "    return x_prime, y_prime\n",
    "\n",
    "def proposal_kernel_y(x, y, sigma_y):\n",
    "    \"\"\" Proposal kernel P2 \"\"\"\n",
    "    x_prime = x\n",
    "    y_prime = np.random.normal(y, sigma_y)\n",
    "    return x_prime, y_prime\n",
    "\n",
    "# -------------------------------------- #\n",
    "def "
   ]
  },
  {
   "cell_type": "markdown",
   "metadata": {},
   "source": [
    "#### Question 2"
   ]
  },
  {
   "cell_type": "code",
   "execution_count": null,
   "metadata": {},
   "outputs": [],
   "source": []
  },
  {
   "cell_type": "code",
   "execution_count": null,
   "metadata": {},
   "outputs": [],
   "source": []
  },
  {
   "cell_type": "code",
   "execution_count": null,
   "metadata": {},
   "outputs": [],
   "source": []
  },
  {
   "cell_type": "code",
   "execution_count": null,
   "metadata": {},
   "outputs": [],
   "source": []
  },
  {
   "cell_type": "code",
   "execution_count": null,
   "metadata": {},
   "outputs": [],
   "source": []
  },
  {
   "cell_type": "code",
   "execution_count": null,
   "metadata": {},
   "outputs": [],
   "source": []
  },
  {
   "cell_type": "code",
   "execution_count": null,
   "metadata": {},
   "outputs": [],
   "source": []
  },
  {
   "cell_type": "code",
   "execution_count": null,
   "metadata": {},
   "outputs": [],
   "source": []
  },
  {
   "cell_type": "code",
   "execution_count": null,
   "metadata": {},
   "outputs": [],
   "source": []
  }
 ],
 "metadata": {
  "kernelspec": {
   "display_name": "base",
   "language": "python",
   "name": "python3"
  },
  "language_info": {
   "codemirror_mode": {
    "name": "ipython",
    "version": 3
   },
   "file_extension": ".py",
   "mimetype": "text/x-python",
   "name": "python",
   "nbconvert_exporter": "python",
   "pygments_lexer": "ipython3",
   "version": "3.12.4"
  }
 },
 "nbformat": 4,
 "nbformat_minor": 2
}
