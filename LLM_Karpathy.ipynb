{
 "cells": [
  {
   "cell_type": "code",
   "execution_count": null,
   "metadata": {},
   "outputs": [],
   "source": [
    "# imports "
   ]
  },
  {
   "cell_type": "markdown",
   "metadata": {},
   "source": [
    "[Fine Web](https://huggingface.co/spaces/HuggingFaceFW/blogpost-fineweb-v1) from Hugging Face."
   ]
  },
  {
   "cell_type": "markdown",
   "metadata": {},
   "source": []
  },
  {
   "cell_type": "code",
   "execution_count": 1,
   "metadata": {},
   "outputs": [
    {
     "name": "stdout",
     "output_type": "stream",
     "text": [
      "Input Tensor:\n",
      "tensor([[ 1.,  2.,  3.],\n",
      "        [ 4.,  5.,  6.],\n",
      "        [ 7.,  8.,  9.],\n",
      "        [10., 11., 12.]])\n"
     ]
    }
   ],
   "source": [
    "import torch\n",
    "import torch.nn as nn\n",
    "\n",
    "# Batch Normalization (BatchNorm)\n",
    "batch_norm = nn.BatchNorm1d(num_features=3)  # Normalisation sur chaque feature\n",
    "\n",
    "# Layer Normalization (LayerNorm)\n",
    "layer_norm = nn.LayerNorm(normalized_shape=3)  # Normalisation sur chaque exemple\n",
    "\n",
    "# Simuler un batch de 4 échantillons, chacun avec 3 features\n",
    "x = torch.tensor([[1.0, 2.0, 3.0], \n",
    "                  [4.0, 5.0, 6.0], \n",
    "                  [7.0, 8.0, 9.0], \n",
    "                  [10.0, 11.0, 12.0]], dtype=torch.float32)\n",
    "\n",
    "print(\"Input Tensor:\")\n",
    "print(x)"
   ]
  },
  {
   "cell_type": "code",
   "execution_count": 2,
   "metadata": {},
   "outputs": [
    {
     "name": "stdout",
     "output_type": "stream",
     "text": [
      "\n",
      "Batch Normalization Output:\n",
      "tensor([[-1.3416, -1.3416, -1.3416],\n",
      "        [-0.4472, -0.4472, -0.4472],\n",
      "        [ 0.4472,  0.4472,  0.4472],\n",
      "        [ 1.3416,  1.3416,  1.3416]], grad_fn=<NativeBatchNormBackward0>)\n",
      "\n",
      "Layer Normalization Output:\n",
      "tensor([[-1.2247,  0.0000,  1.2247],\n",
      "        [-1.2247,  0.0000,  1.2247],\n",
      "        [-1.2247,  0.0000,  1.2247],\n",
      "        [-1.2247,  0.0000,  1.2247]], grad_fn=<NativeLayerNormBackward0>)\n"
     ]
    }
   ],
   "source": [
    "# Appliquer BatchNorm (normalisation sur chaque feature)\n",
    "x_bn = batch_norm(x)\n",
    "\n",
    "# Appliquer LayerNorm (normalisation sur chaque exemple)\n",
    "x_ln = layer_norm(x)\n",
    "\n",
    "print(\"\\nBatch Normalization Output:\")\n",
    "print(x_bn)\n",
    "\n",
    "print(\"\\nLayer Normalization Output:\")\n",
    "print(x_ln)\n"
   ]
  },
  {
   "cell_type": "code",
   "execution_count": null,
   "metadata": {},
   "outputs": [],
   "source": []
  }
 ],
 "metadata": {
  "kernelspec": {
   "display_name": "base",
   "language": "python",
   "name": "python3"
  },
  "language_info": {
   "codemirror_mode": {
    "name": "ipython",
    "version": 3
   },
   "file_extension": ".py",
   "mimetype": "text/x-python",
   "name": "python",
   "nbconvert_exporter": "python",
   "pygments_lexer": "ipython3",
   "version": "3.12.4"
  }
 },
 "nbformat": 4,
 "nbformat_minor": 2
}
