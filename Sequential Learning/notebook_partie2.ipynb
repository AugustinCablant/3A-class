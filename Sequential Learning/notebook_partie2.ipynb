{
 "cells": [
  {
   "cell_type": "code",
   "execution_count": 17,
   "metadata": {},
   "outputs": [],
   "source": [
    "import matplotlib.pyplot as plt \n",
    "import numpy as np \n",
    "import math \n",
    "from tqdm import tqdm\n",
    "np.random.seed(2025)"
   ]
  },
  {
   "cell_type": "code",
   "execution_count": 18,
   "metadata": {},
   "outputs": [],
   "source": [
    "def uniform_sampling(T, K, means):\n",
    "    rewards = np.zeros(K)\n",
    "    for k in range(K):\n",
    "        rewards[k] = np.sum(np.random.binomial(1, means[k], T // K))\n",
    "    empirical_means = rewards / (T//K)\n",
    "    return rewards, empirical_means"
   ]
  },
  {
   "cell_type": "code",
   "execution_count": 19,
   "metadata": {},
   "outputs": [],
   "source": [
    "def successive_rejects(T, K, means):\n",
    "    A1 = np.array(list(range(1, K+1)))\n",
    "    log_bar_K = 1/2 + np.sum([1/k for k in range(2, K+1)])\n",
    "    n0 = 0\n",
    "    for j in range(1, K):\n",
    "        nj = math.floor((T-K) / (log_bar_K * (K + 1 - j)))"
   ]
  },
  {
   "cell_type": "code",
   "execution_count": 20,
   "metadata": {},
   "outputs": [],
   "source": [
    "def run_experience(algorithm, T, K, means, n_iter=10**4):\n",
    "    counter = np.zeros(K)\n",
    "    for n in tqdm(range(n_iter)):\n",
    "        if algorithm==\"uniform_sampling\":\n",
    "            rewards, empirical_means = uniform_sampling(T, K, means)\n",
    "            best_arm = np.argmax(empirical_means) \n",
    "        else:\n",
    "            rewards, empirical_means = successive_rejects(T, K, means)\n",
    "            best_arm = np.argmax(empirical_means) \n",
    "        counter[best_arm] += 1\n",
    "    counter /= n_iter\n",
    "    p = 1 - np.sum(counter[1:])\n",
    "    return p\n",
    "        "
   ]
  },
  {
   "cell_type": "code",
   "execution_count": 22,
   "metadata": {},
   "outputs": [
    {
     "name": "stderr",
     "output_type": "stream",
     "text": [
      "100%|██████████| 10000/10000 [00:00<00:00, 28588.26it/s]\n"
     ]
    },
    {
     "name": "stdout",
     "output_type": "stream",
     "text": [
      "\n",
      "T = 100\n",
      "Probability of error for uniform sampling is: 0.22360000000000002\n"
     ]
    },
    {
     "name": "stderr",
     "output_type": "stream",
     "text": [
      "100%|██████████| 10000/10000 [00:00<00:00, 27149.57it/s]\n"
     ]
    },
    {
     "name": "stdout",
     "output_type": "stream",
     "text": [
      "\n",
      "T = 500\n",
      "Probability of error for uniform sampling is: 0.2846000000000001\n"
     ]
    },
    {
     "name": "stderr",
     "output_type": "stream",
     "text": [
      "100%|██████████| 10000/10000 [00:00<00:00, 18101.45it/s]"
     ]
    },
    {
     "name": "stdout",
     "output_type": "stream",
     "text": [
      "\n",
      "T = 2000\n",
      "Probability of error for uniform sampling is: 0.6051\n"
     ]
    },
    {
     "name": "stderr",
     "output_type": "stream",
     "text": [
      "\n"
     ]
    }
   ],
   "source": [
    "K = 20\n",
    "means = [0.6] + [0.5] * (K-1)\n",
    "Ts = [100, 500, 2000]\n",
    "\n",
    "for T in Ts:\n",
    "    p_error = run_experience(algorithm=\"uniform_sampling\", T=T, K=K, means=means, n_iter=10**4)\n",
    "    print(f\"\\nT = {T}\")\n",
    "    print(f\"Probability of error for uniform sampling is: {p_error}\")"
   ]
  },
  {
   "cell_type": "code",
   "execution_count": 16,
   "metadata": {},
   "outputs": [
    {
     "data": {
      "text/plain": [
       "1"
      ]
     },
     "execution_count": 16,
     "metadata": {},
     "output_type": "execute_result"
    }
   ],
   "source": [
    "arms = [0.6, 0.7, 0.7, 0.4]\n",
    "np.argmax(arms)\n"
   ]
  },
  {
   "cell_type": "code",
   "execution_count": null,
   "metadata": {},
   "outputs": [],
   "source": []
  }
 ],
 "metadata": {
  "kernelspec": {
   "display_name": "base",
   "language": "python",
   "name": "python3"
  },
  "language_info": {
   "codemirror_mode": {
    "name": "ipython",
    "version": 3
   },
   "file_extension": ".py",
   "mimetype": "text/x-python",
   "name": "python",
   "nbconvert_exporter": "python",
   "pygments_lexer": "ipython3",
   "version": "3.12.4"
  }
 },
 "nbformat": 4,
 "nbformat_minor": 2
}
